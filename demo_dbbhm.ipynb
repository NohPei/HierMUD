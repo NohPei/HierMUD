{
 "cells": [
  {
   "cell_type": "code",
   "execution_count": 3,
   "metadata": {
    "collapsed": true,
    "executionInfo": {
     "elapsed": 1197,
     "status": "ok",
     "timestamp": 1622665674675,
     "user": {
      "displayName": "Jingxiao Liu",
      "photoUrl": "",
      "userId": "03475133506377629126"
     },
     "user_tz": 420
    },
    "id": "2BlTsMqhuGlX"
   },
   "outputs": [],
   "source": [
    "import numpy as np\n",
    "import torch\n",
    "import os\n",
    "import matplotlib.pyplot as plt\n",
    "from Dataset import *\n",
    "from model import *\n",
    "import torch.utils.data as util_data\n",
    "from torchvision import transforms,datasets\n",
    "from PIL import Image, ImageOps\n",
    "import yaml\n",
    "from train import *\n",
    "import random\n",
    "from easydict import EasyDict as edict\n",
    "from sklearn.utils import shuffle"
   ]
  },
  {
   "cell_type": "code",
   "execution_count": 4,
   "metadata": {
    "collapsed": true,
    "executionInfo": {
     "elapsed": 74353,
     "status": "ok",
     "timestamp": 1622665749025,
     "user": {
      "displayName": "Jingxiao Liu",
      "photoUrl": "",
      "userId": "03475133506377629126"
     },
     "user_tz": 420
    },
    "id": "3oaRvd405oSA"
   },
   "outputs": [],
   "source": [
    "filePath = '/dataset/dbbhm'\n",
    "b1b2 = True\n",
    "v_n =10\n",
    "fea_name = 'stft'\n",
    "\n",
    "x_dann, label_l, label_s, label_d, label_flatten, _, _=load_bhm_feature(filePath,v_n,b1b2,fea_name)\n",
    "\n",
    "batch_size = 16\n",
    "x_source,yl_source,ys_source,yd_source,yf_source=shuffle(x_dann[0:round(len(x_dann)/2)],label_l,label_s,label_d,label_flatten,random_state=0)\n",
    "x_target,yl_target,ys_target,yd_target,yf_target=shuffle(x_dann[round(len(x_dann)/2):],label_l,label_s,label_d,label_flatten,random_state=0)\n",
    "hold_out_size = int(len(x_source)*0.2)\n",
    "\n",
    "source_train = [torch.utils.data.DataLoader(Dataset_bhm(x_source[:-hold_out_size],yl_source[:-hold_out_size], resize_size=64, \\\n",
    "                                            crop_size=62, is_train = True),\\\n",
    "                                            batch_size, shuffle=True),\n",
    "                torch.utils.data.DataLoader(Dataset_bhm(x_source[:-hold_out_size],ys_source[:-hold_out_size], resize_size=64, \\\n",
    "                                            crop_size=62, is_train = True),\\\n",
    "                                            batch_size, shuffle=True)]\n",
    "source_test = [torch.utils.data.DataLoader(Dataset_bhm(x_source[-hold_out_size:],yl_source[-hold_out_size:], resize_size=64, \\\n",
    "                                            crop_size=62, is_train = False),\\\n",
    "                                            batch_size, shuffle=False),\n",
    "               torch.utils.data.DataLoader(Dataset_bhm(x_source[-hold_out_size:],ys_source[-hold_out_size:], resize_size=64, \\\n",
    "                                            crop_size=62, is_train = False),\\\n",
    "                                            batch_size, shuffle=False)]\n",
    "target_train = [torch.utils.data.DataLoader(Dataset_bhm(x_target[:-hold_out_size],yl_target[:-hold_out_size], resize_size=64, \\\n",
    "                                            crop_size=62, is_train = True),\\\n",
    "                                            batch_size, shuffle=True),\n",
    "                torch.utils.data.DataLoader(Dataset_bhm(x_target[:-hold_out_size],ys_target[:-hold_out_size], resize_size=64, \\\n",
    "                                            crop_size=62, is_train = True),\\\n",
    "                                            batch_size, shuffle=True)]\n",
    "target_test = [torch.utils.data.DataLoader(Dataset_bhm(x_target[-hold_out_size:],yl_target[-hold_out_size:], resize_size=64, \\\n",
    "                                            crop_size=62, is_train = False),\\\n",
    "                                            batch_size, shuffle=False),\n",
    "               torch.utils.data.DataLoader(Dataset_bhm(x_target[-hold_out_size:],ys_target[-hold_out_size:], resize_size=64, \\\n",
    "                                            crop_size=62, is_train = False),\\\n",
    "                                            batch_size, shuffle=False)]"
   ]
  },
  {
   "cell_type": "code",
   "execution_count": 8,
   "metadata": {
    "collapsed": true,
    "executionInfo": {
     "elapsed": 199,
     "status": "ok",
     "timestamp": 1622665770224,
     "user": {
      "displayName": "Jingxiao Liu",
      "photoUrl": "",
      "userId": "03475133506377629126"
     },
     "user_tz": 420
    },
    "id": "eIuJVRjKyvPO"
   },
   "outputs": [],
   "source": [
    "with open('dann.yml','r') as f:\n",
    "  cfg = edict(yaml.load(f))\n",
    "for x in cfg:\n",
    "  print('{}: {}'.format(x, cfg[x]))"
   ]
  },
  {
   "cell_type": "code",
   "execution_count": 7,
   "metadata": {
    "collapsed": true,
    "executionInfo": {
     "elapsed": 114,
     "status": "ok",
     "timestamp": 1622665763535,
     "user": {
      "displayName": "Jingxiao Liu",
      "photoUrl": "",
      "userId": "03475133506377629126"
     },
     "user_tz": 420
    },
    "id": "bMniwKrcyzYd"
   },
   "outputs": [],
   "source": [
    "max_iter = 15000.0\n",
    "width = 128\n",
    "base_net = 'dbbhm_net'\n",
    "class_num = [4,5]\n",
    "\n",
    "model_instance = MUD(base_net_sha=base_net,\\\n",
    "                    width=width, use_gpu=True, class_num=class_num,\\\n",
    "                    max_iter=max_iter, alpha=10., \\\n",
    "                    low_value=0., high_value=1.,\\\n",
    "                    gamma=1., weight=1.)\n",
    "\n",
    "param_groups = model_instance.get_parameter_list()\n",
    "group_ratios = [group['lr'] for group in param_groups]\n",
    "\n",
    "optimizer = torch.optim.SGD(param_groups, **cfg.optim.params)\n",
    "lr_scheduler = INVScheduler(gamma=cfg.lr_scheduler.gamma,\n",
    "                decay_rate=cfg.lr_scheduler.decay_rate,\n",
    "                init_lr=cfg.init_lr)\n",
    "\n",
    "all_probs_tgt,all_probs_tgt_2,all_probs_src,all_probs_src_2,\\\n",
    "cls_losses,tsf_losses,oth_diffs_s,oth_diffs_t,target_acc1,\\\n",
    "target_acc2, target_acc2_ = train(model_instance,\\\n",
    "              source_train, target_train, target_test,\\\n",
    "              group_ratios, max_iter=max_iter, optimizer=optimizer,\\\n",
    "              lr_scheduler=lr_scheduler, eval_interval=100)\n",
    "\n"
   ]
  },
  {
   "cell_type": "code",
   "execution_count": null,
   "metadata": {
    "collapsed": true,
    "executionInfo": {
     "elapsed": 174,
     "status": "aborted",
     "timestamp": 1622665757932,
     "user": {
      "displayName": "Jingxiao Liu",
      "photoUrl": "",
      "userId": "03475133506377629126"
     },
     "user_tz": 420
    },
    "id": "M0ImEQ9Do6XX"
   },
   "outputs": [],
   "source": []
  }
 ],
 "metadata": {
  "accelerator": "GPU",
  "colab": {
   "authorship_tag": "ABX9TyPuVm2at4RBzrXa0qu5vSqt",
   "collapsed_sections": [],
   "machine_shape": "hm",
   "name": "demo_dbbhm.ipynb",
   "provenance": [
    {
     "file_id": "1WzzpSSpxdfMKS3O8WGK47fo6j7loeIrh",
     "timestamp": 1622660389915
    },
    {
     "file_id": "1-gExvhoKdJBphYZVU_E18SZ5gauNcmag",
     "timestamp": 1622244793432
    },
    {
     "file_id": "12Ew2Ak2QqkdOVNpjWDYot2kJucxEBHQe",
     "timestamp": 1608716117872
    },
    {
     "file_id": "1weAu1I-onYfnhvgLY0B2kIoCWP_7lV-2",
     "timestamp": 1608715878294
    },
    {
     "file_id": "1sObSG4jwMG1mnbzAGRvCbmVYaW5qok-3",
     "timestamp": 1608707345844
    },
    {
     "file_id": "1tjLgF_5Hd7USUCOj3l9NoPoHp6fkNxnK",
     "timestamp": 1608487425154
    },
    {
     "file_id": "1iebcQlEvavGUziLhq9TWb-ZNsn7JRJp_",
     "timestamp": 1605286554024
    }
   ]
  },
  "kernelspec": {
   "display_name": "Python 3",
   "language": "python",
   "name": "python3"
  },
  "language_info": {
   "codemirror_mode": {
    "name": "ipython",
    "version": 3
   },
   "file_extension": ".py",
   "mimetype": "text/x-python",
   "name": "python",
   "nbconvert_exporter": "python",
   "pygments_lexer": "ipython3",
   "version": "3.6.1"
  }
 },
 "nbformat": 4,
 "nbformat_minor": 1
}
